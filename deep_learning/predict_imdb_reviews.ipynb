{
 "cells": [
  {
   "cell_type": "markdown",
   "metadata": {},
   "source": [
    "## <font color='SeaGreen'>__Table of Contents__</font><br>\n",
    "\n",
    "* [1. Loading the IMDB dataset](#imdb)<br>\n",
    "* [2. Data Preparation](#2nd)<br>\n",
    "* [3. Model Definition](#3rd)<br>\n",
    "* [4. Validation Set](#4th)<br>\n",
    "* [5. Training the Model](#5th)<br>\n",
    "    * [5.1. Loss and Accuracy](#6th)<br>\n",
    "* [6. Evaluation on Test Data](#7th)<br>"
   ]
  },
  {
   "cell_type": "markdown",
   "metadata": {},
   "source": [
    "<a class=\"anchor\" id=\"imdb\">\n",
    "\n",
    "# 1. Loading the IMDB dataset\n",
    "\n",
    "</a>\n",
    "\n",
    "IMDB dataset: \n",
    "\n",
    "> 50000 reviews from the Internet Movie Database\n",
    "> Split into 25000 reviews for training and 25000 reviews for testing, each set consisting of 50% negative and 50% positive reviews.\n",
    "\n",
    "The IMDB dataset comes packaged with Keras. It has already been preprocessed: the reviews (sequences of words) have been turned into sequences of integers, where each integer stands for a specific word in a dictionary.\n",
    "\n",
    "__When you run it the first time, ~ 80 MB of data will be downloaded to your machine__"
   ]
  },
  {
   "cell_type": "code",
   "execution_count": 2,
   "metadata": {},
   "outputs": [
    {
     "name": "stderr",
     "output_type": "stream",
     "text": [
      "2023-12-03 12:47:54.368658: I tensorflow/core/platform/cpu_feature_guard.cc:182] This TensorFlow binary is optimized to use available CPU instructions in performance-critical operations.\n",
      "To enable the following instructions: AVX2 FMA, in other operations, rebuild TensorFlow with the appropriate compiler flags.\n"
     ]
    }
   ],
   "source": [
    "from tensorflow.keras.datasets import imdb\n",
    "\n",
    "# num_words=10000 means you’ll only keep the top 10000 most frequently occurring words in the training data. Rare words will be discarded. \n",
    "# train_data and test_data are lists of reviews. Each review is a list of word indices (encoding a sequence of words). \n",
    "# train_labels and test_labels are lists of 0s and 1s, where 0 stands for negative and 1 stands for positive.\n",
    "\n",
    "(train_data, train_labels), (test_data, test_labels) = imdb.load_data(num_words=10000)"
   ]
  },
  {
   "cell_type": "markdown",
   "metadata": {},
   "source": [
    "Data is already processed. With 'train_data[0]' you can see the words indices and with 'train_labels[0]' you can see 1 (meaning positive review)"
   ]
  },
  {
   "cell_type": "code",
   "execution_count": 3,
   "metadata": {},
   "outputs": [],
   "source": [
    "# train_data[0]\n",
    "# train_labels[0]"
   ]
  },
  {
   "cell_type": "markdown",
   "metadata": {},
   "source": [
    "<a class=\"anchor\" id=\"2nd\">\n",
    "\n",
    "# 2. Data preparation\n",
    "\n",
    "</a>\n",
    "\n",
    "Encoding the integer sequences into a binary matrix. You can’t feed lists of integers into a neural network. You have to turn your lists into tensors. There are 2 ways to achieve this: \n",
    "\n",
    "> — Using an Embedding layer (commonly used for NLP problems) <p>\n",
    "\n",
    "> — One-hot encode your lists to turn them into vectors of 0s and 1s. This would mean turning the sequence [3, 5] into a 10,000-dimensional vector that would be all 0s except for indices 3 and 5, which would be 1s. Then you could use as the first layer in your network a Dense layer, capable of handling floating-point vector data. <p>\n",
    "\n",
    "Let’s go with the latter solution to vectorize the data."
   ]
  },
  {
   "cell_type": "code",
   "execution_count": 11,
   "metadata": {},
   "outputs": [],
   "source": [
    "import numpy as np\n",
    "\n",
    "def vectorize_sequences(sequences, dimension=10000):\n",
    "    results = np.zeros((len(sequences), dimension)) # Creates an all-zero matrix of shape len(sequences), dimension\n",
    "    for i, sequence in enumerate(sequences):\n",
    "        results[i, sequence] = 1 # Sets specific indices of results[i] to 1s\n",
    "    return results    \n",
    "\n",
    "# Vectorizing the data\n",
    "x_train = vectorize_sequences(train_data)\n",
    "x_test = vectorize_sequences(test_data)\n",
    "\n",
    "# Vectorizing the labels\n",
    "y_train = np.asarray(train_labels).astype('float32')\n",
    "y_test = np.asarray(test_labels).astype('float32')"
   ]
  },
  {
   "cell_type": "markdown",
   "metadata": {},
   "source": [
    "__The data is ready to be fed into a neural network.__\n",
    "\n",
    "__So:__<p>\n",
    "The input data is vectors, and the labels are scalars (1s and 0s).\n",
    "\n",
    "A simple stack of fully connected (Dense) layers with __relu activations__: Dense(16,activation='relu') is a type of network that performs well on such a problem\n",
    "\n",
    "The argument being passed to each Dense layer (16) is the number of hidden units of the layer. A hidden unit is a dimension in the representation space of the layer.\n",
    "\n",
    "Such Dense layer with a relu activation implements the following chain of operations:\n",
    "\n",
    "> output = relu(dot(W, input) + b)\n",
    "\n",
    "Having 16 hidden units means the weight matrix W will have shape (input_dimension, 16): the dot product with W will project the input data onto a 16-dimensional representation space (and then you’ll add the bias vector b and apply the relu operation). \n",
    "\n",
    "You can intuitively understand the dimensionality of your representation space as “how much freedom you’re allowing the network to have when learning internal representations.”\n",
    "\n",
    "__But:__ <p>\n",
    "> — Having more hidden units (a higher-dimensional representation space) allows your network to learn more-complex representations <p>\n",
    "> — it makes the network more computationally expensive and may lead to learning unwanted patterns (patterns that will improve performance on the training data but not on the test data).\n",
    "\n",
    "2 key architecture decisions to be made about such a stack of Dense layers:\n",
    "> 1. How many layers to use\n",
    "> 2. How many hidden units to choose for each layer\n",
    "\n",
    "There are practical principles to guide you in making these choices. In this case we'll use: \n",
    "> — Two intermediate layers with 16 hidden units each <p>\n",
    "> — A third layer that will output the scalar prediction regarding the sentiment of the current review <p>\n",
    "\n",
    "The intermediate layers will use __relu__ as their activation function, and the final layer will use a __sigmoid activation__ to output a probability, indicating how likely the sample is to have the target “1”: how likely the review is to be positive."
   ]
  },
  {
   "cell_type": "markdown",
   "metadata": {},
   "source": [
    "What are activation functions, and why are they necessary? \n",
    "\n",
    "Without an activation function like relu (also called a non-linearity), the Dense layer would consist of two linear operations — a dot product and an addition: \n",
    "\n",
    "> output = dot(W, input) + b <p>\n",
    "\n",
    "So the layer could only learn linear transformations (affine transformations) of the input data: the hypothesis space of the layer would be the set of all possible linear transformations of the input data into a 16-dimensional space. Such a hypothesis space is too restricted and adding more layers wouldn’t extend the hypothesis space.\n",
    "\n",
    "In order to get access to a much richer hypothesis space that would benefit from deep representations, you need a non-linearity, or activation function. relu is the most popular activation function in deep learning."
   ]
  },
  {
   "cell_type": "markdown",
   "metadata": {},
   "source": [
    "<a class=\"anchor\" id=\"3rd\">\n",
    "\n",
    "# 3. Model Definition\n",
    "\n",
    "</a>"
   ]
  },
  {
   "cell_type": "code",
   "execution_count": 16,
   "metadata": {},
   "outputs": [],
   "source": [
    "import tensorflow as tf \n",
    "from tensorflow import keras\n",
    "from tensorflow.keras.layers import Dense\n",
    "from tensorflow.keras.models import Model, Sequential\n",
    "\n",
    "model = Sequential()\n",
    "\n",
    "model.add(Dense(16, activation='relu', input_dim=10000))\n",
    "model.add(Dense(16, activation='relu'))\n",
    "model.add(Dense(1, activation='sigmoid'))"
   ]
  },
  {
   "cell_type": "markdown",
   "metadata": {},
   "source": [
    "Now, it's time to choose a __loss function__ and an __optimizer__. \n",
    "\n",
    "This is a binary classification problem and the end of the network is a single-unit layer with a sigmoid activation (the output of the network is a probability), __binary_crossentropy loss__ will be used. \n",
    "\n",
    "> Crossentropy is a quantity from the field of Information Theory that measures the distance between probability distributions or, in this case, between the ground-truth distribution and your predictions."
   ]
  },
  {
   "cell_type": "code",
   "execution_count": 17,
   "metadata": {},
   "outputs": [],
   "source": [
    "model.compile(optimizer='rmsprop', loss='binary_crossentropy', metrics=['accuracy'])"
   ]
  },
  {
   "cell_type": "markdown",
   "metadata": {},
   "source": [
    "<a class=\"anchor\" id=\"4th\">\n",
    "\n",
    "# 4. Validation Set\n",
    "\n",
    "</a>\n",
    "\n",
    "During training, in order to monitor the accuracy of the model on data it has never seen before, will be created a validation set by setting apart 10000 samples from the original training data.\n",
    "\n",
    "> Train set: 15 000 samples <p>\n",
    "> Validation: 10 000 samples <p>\n",
    "> Test: 25 000 <p>"
   ]
  },
  {
   "cell_type": "code",
   "execution_count": 18,
   "metadata": {},
   "outputs": [],
   "source": [
    "x_val = x_train[:10000]\n",
    "partial_x_train = x_train[10000:]\n",
    "y_val = y_train[:10000]\n",
    "partial_y_train = y_train[10000:]"
   ]
  },
  {
   "cell_type": "markdown",
   "metadata": {},
   "source": [
    "<a class=\"anchor\" id=\"5th\">\n",
    "\n",
    "# 5. Training the Model\n",
    "\n",
    "</a>\n",
    "\n",
    "The model will be trained for 20 epochs (20 iterations over all samples in the __x_train__ and __y_train__ tensors), in mini-batches of 512 samples. <p>\n",
    "The loss and accuracy will be monitored on the validation set."
   ]
  },
  {
   "cell_type": "code",
   "execution_count": 19,
   "metadata": {},
   "outputs": [
    {
     "name": "stdout",
     "output_type": "stream",
     "text": [
      "Epoch 1/20\n",
      "30/30 [==============================] - 6s 161ms/step - loss: 0.5456 - accuracy: 0.7671 - val_loss: 0.4244 - val_accuracy: 0.8404\n",
      "Epoch 2/20\n",
      "30/30 [==============================] - 1s 32ms/step - loss: 0.3334 - accuracy: 0.8943 - val_loss: 0.3284 - val_accuracy: 0.8766\n",
      "Epoch 3/20\n",
      "30/30 [==============================] - 1s 33ms/step - loss: 0.2468 - accuracy: 0.9186 - val_loss: 0.2875 - val_accuracy: 0.8862\n",
      "Epoch 4/20\n",
      "30/30 [==============================] - 1s 32ms/step - loss: 0.1973 - accuracy: 0.9355 - val_loss: 0.2842 - val_accuracy: 0.8851\n",
      "Epoch 5/20\n",
      "30/30 [==============================] - 1s 32ms/step - loss: 0.1659 - accuracy: 0.9457 - val_loss: 0.2863 - val_accuracy: 0.8833\n",
      "Epoch 6/20\n",
      "30/30 [==============================] - 1s 34ms/step - loss: 0.1390 - accuracy: 0.9568 - val_loss: 0.3076 - val_accuracy: 0.8767\n",
      "Epoch 7/20\n",
      "30/30 [==============================] - 1s 31ms/step - loss: 0.1196 - accuracy: 0.9626 - val_loss: 0.2947 - val_accuracy: 0.8862\n",
      "Epoch 8/20\n",
      "30/30 [==============================] - 1s 36ms/step - loss: 0.1062 - accuracy: 0.9672 - val_loss: 0.3104 - val_accuracy: 0.8844\n",
      "Epoch 9/20\n",
      "30/30 [==============================] - 1s 36ms/step - loss: 0.0893 - accuracy: 0.9736 - val_loss: 0.3227 - val_accuracy: 0.8817\n",
      "Epoch 10/20\n",
      "30/30 [==============================] - 1s 33ms/step - loss: 0.0770 - accuracy: 0.9794 - val_loss: 0.3432 - val_accuracy: 0.8822\n",
      "Epoch 11/20\n",
      "30/30 [==============================] - 1s 34ms/step - loss: 0.0627 - accuracy: 0.9851 - val_loss: 0.3796 - val_accuracy: 0.8709\n",
      "Epoch 12/20\n",
      "30/30 [==============================] - 1s 27ms/step - loss: 0.0574 - accuracy: 0.9870 - val_loss: 0.3883 - val_accuracy: 0.8782\n",
      "Epoch 13/20\n",
      "30/30 [==============================] - 1s 34ms/step - loss: 0.0454 - accuracy: 0.9916 - val_loss: 0.4006 - val_accuracy: 0.8758\n",
      "Epoch 14/20\n",
      "30/30 [==============================] - 1s 34ms/step - loss: 0.0411 - accuracy: 0.9911 - val_loss: 0.4204 - val_accuracy: 0.8743\n",
      "Epoch 15/20\n",
      "30/30 [==============================] - 1s 33ms/step - loss: 0.0329 - accuracy: 0.9940 - val_loss: 0.4735 - val_accuracy: 0.8732\n",
      "Epoch 16/20\n",
      "30/30 [==============================] - 1s 34ms/step - loss: 0.0264 - accuracy: 0.9964 - val_loss: 0.5019 - val_accuracy: 0.8713\n",
      "Epoch 17/20\n",
      "30/30 [==============================] - 1s 32ms/step - loss: 0.0247 - accuracy: 0.9951 - val_loss: 0.4936 - val_accuracy: 0.8731\n",
      "Epoch 18/20\n",
      "30/30 [==============================] - 1s 31ms/step - loss: 0.0176 - accuracy: 0.9986 - val_loss: 0.5352 - val_accuracy: 0.8726\n",
      "Epoch 19/20\n",
      "30/30 [==============================] - 1s 28ms/step - loss: 0.0153 - accuracy: 0.9987 - val_loss: 0.5595 - val_accuracy: 0.8706\n",
      "Epoch 20/20\n",
      "30/30 [==============================] - 1s 37ms/step - loss: 0.0157 - accuracy: 0.9968 - val_loss: 0.5687 - val_accuracy: 0.8719\n"
     ]
    }
   ],
   "source": [
    "history = model.fit(partial_x_train, partial_y_train, epochs=20, batch_size=512, validation_data=(x_val, y_val))"
   ]
  },
  {
   "cell_type": "code",
   "execution_count": 21,
   "metadata": {},
   "outputs": [
    {
     "data": {
      "text/plain": [
       "dict_keys(['loss', 'accuracy', 'val_loss', 'val_accuracy'])"
      ]
     },
     "execution_count": 21,
     "metadata": {},
     "output_type": "execute_result"
    }
   ],
   "source": [
    "history_dict = history.history\n",
    "history_dict.keys()"
   ]
  },
  {
   "cell_type": "markdown",
   "metadata": {},
   "source": [
    "<a class=\"anchor\" id=\"6th\">\n",
    "\n",
    "# 5.1. Loss and Accuracy\n",
    "\n",
    "</a>"
   ]
  },
  {
   "cell_type": "code",
   "execution_count": 26,
   "metadata": {},
   "outputs": [
    {
     "data": {
      "image/png": "[encoded data removed]",
      "text/plain": [
       "<Figure size 640x480 with 1 Axes>"
      ]
     },
     "metadata": {},
     "output_type": "display_data"
    }
   ],
   "source": [
    "import matplotlib.pyplot as plt\n",
    "\n",
    "history_dict = history.history\n",
    "loss_values = history_dict['loss']\n",
    "val_loss_values = history_dict['val_loss']\n",
    "\n",
    "epochs = range(1, len(loss_values) + 1)\n",
    "\n",
    "plt.plot(epochs, loss_values, 'bo', label='Training Loss') # 'bo' is for blue dot line \n",
    "plt.plot(epochs, val_loss_values, 'b', label='Validation Loss') # 'b' is for blue line \n",
    "plt.title('Training and Validation Loss')\n",
    "plt.xlabel('Epochs')\n",
    "plt.ylabel('Loss')\n",
    "plt.legend()\n",
    "plt.show()"
   ]
  },
  {
   "cell_type": "markdown",
   "metadata": {},
   "source": [
    "## Training and Validation accuracy "
   ]
  },
  {
   "cell_type": "code",
   "execution_count": 30,
   "metadata": {},
   "outputs": [
    {
     "data": {
      "image/png": "[encoded data removed]",
      "text/plain": [
       "<Figure size 640x480 with 1 Axes>"
      ]
     },
     "metadata": {},
     "output_type": "display_data"
    }
   ],
   "source": [
    "plt.clf() # Clears the figure \n",
    "acc_values = history_dict['accuracy']\n",
    "val_acc_values = history_dict['val_accuracy']\n",
    "\n",
    "plt.plot(epochs, acc_values, 'bo', label='Training Accuracy')\n",
    "plt.plot(epochs, val_acc_values, 'b', label='Validation Accuracy')\n",
    "plt.title('Training & Validation Accuracy')\n",
    "plt.xlabel('Epochs')\n",
    "plt.ylabel('Accuracy')\n",
    "plt.legend()\n",
    "plt.show()"
   ]
  },
  {
   "cell_type": "markdown",
   "metadata": {},
   "source": [
    "## Observations\n",
    "\n",
    "> With every epoch, the training loss deacreases and the training accuracy increases <p>\n",
    "> The model is overfitting, because is performing better in training than in the validation <p>\n",
    "> To prevent overfitting, we'll stop training after three epochs. There are a range of techniques to mitigate overfitting."
   ]
  },
  {
   "cell_type": "markdown",
   "metadata": {},
   "source": [
    "<a class=\"anchor\" id=\"7th\">\n",
    "\n",
    "# 6. Evaluation on Test Data\n",
    "\n",
    "</a>\n",
    "\n",
    "We'll train a new network from scratch for four epochs, and then evaluate it."
   ]
  },
  {
   "cell_type": "code",
   "execution_count": 32,
   "metadata": {},
   "outputs": [
    {
     "name": "stdout",
     "output_type": "stream",
     "text": [
      "Epoch 1/4\n",
      "49/49 [==============================] - 3s 23ms/step - loss: 0.4810 - accuracy: 0.8085\n",
      "Epoch 2/4\n",
      "49/49 [==============================] - 1s 20ms/step - loss: 0.2847 - accuracy: 0.9006\n",
      "Epoch 3/4\n",
      "49/49 [==============================] - 1s 20ms/step - loss: 0.2230 - accuracy: 0.9200\n",
      "Epoch 4/4\n",
      "49/49 [==============================] - 1s 20ms/step - loss: 0.1875 - accuracy: 0.9345\n",
      "782/782 [==============================] - 3s 4ms/step - loss: 0.2845 - accuracy: 0.8861\n"
     ]
    },
    {
     "data": {
      "text/plain": [
       "[0.2845340371131897, 0.8861200213432312]"
      ]
     },
     "execution_count": 32,
     "metadata": {},
     "output_type": "execute_result"
    }
   ],
   "source": [
    "model = Sequential()\n",
    "model.add(Dense(16, activation='relu', input_dim=10000))\n",
    "model.add(Dense(16, activation='relu'))\n",
    "model.add(Dense(1, activation='sigmoid'))\n",
    "\n",
    "model.compile(\n",
    "    optimizer='rmsprop',\n",
    "    loss='binary_crossentropy',\n",
    "    metrics=['accuracy']\n",
    ")\n",
    "\n",
    "model.fit(x_train, y_train, epochs=4, batch_size=512)\n",
    "results = model.evaluate(x_test, y_test)\n",
    "\n",
    "results"
   ]
  },
  {
   "cell_type": "code",
   "execution_count": 33,
   "metadata": {},
   "outputs": [
    {
     "name": "stdout",
     "output_type": "stream",
     "text": [
      "782/782 [==============================] - 3s 3ms/step\n"
     ]
    },
    {
     "data": {
      "text/plain": [
       "array([[0.25747237],\n",
       "       [0.9988564 ],\n",
       "       [0.9359791 ],\n",
       "       ...,\n",
       "       [0.12657258],\n",
       "       [0.1058305 ],\n",
       "       [0.77074134]], dtype=float32)"
      ]
     },
     "execution_count": 33,
     "metadata": {},
     "output_type": "execute_result"
    }
   ],
   "source": [
    "model.predict(x_test)"
   ]
  }
 ],
 "metadata": {
  "kernelspec": {
   "display_name": "Python 3",
   "language": "python",
   "name": "python3"
  },
  "language_info": {
   "codemirror_mode": {
    "name": "ipython",
    "version": 3
   },
   "file_extension": ".py",
   "mimetype": "text/x-python",
   "name": "python",
   "nbconvert_exporter": "python",
   "pygments_lexer": "ipython3",
   "version": "3.11.5"
  }
 },
 "nbformat": 4,
 "nbformat_minor": 2
}
